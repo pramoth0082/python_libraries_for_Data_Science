{
 "cells": [
  {
   "cell_type": "markdown",
   "metadata": {},
   "source": [
    "# What is NumPy?\n",
    "NumPy is a Python library used for working with arrays.<br>\n",
    "-->It also has functions for working in domain of linear algebra, fourier transform, and matrices.<br>\n",
    "-->NumPy was created in 2005 by Travis Oliphant. It is an open source project and you can use it freely.<br>\n",
    "-->NumPy stands for Numerical Python."
   ]
  },
  {
   "cell_type": "markdown",
   "metadata": {},
   "source": [
    "Array, Arange, Zeros, Ones, Linspace, Eye, Random"
   ]
  },
  {
   "cell_type": "code",
   "execution_count": 2,
   "metadata": {},
   "outputs": [
    {
     "name": "stdout",
     "output_type": "stream",
     "text": [
      "Array  [1 2 3 4 5]\n",
      "Arange  [1 3 5 7 9]\n",
      "Zeros  [0. 0. 0. 0. 0. 0. 0. 0. 0. 0.]\n",
      "ones  [1. 1. 1. 1. 1.]\n",
      "Linspace  (array([1. , 1.4, 1.8, 2.2, 2.6]), 0.4)\n",
      "(array([  1.        ,   3.02040816,   5.04081633,   7.06122449,\n",
      "         9.08163265,  11.10204082,  13.12244898,  15.14285714,\n",
      "        17.16326531,  19.18367347,  21.20408163,  23.2244898 ,\n",
      "        25.24489796,  27.26530612,  29.28571429,  31.30612245,\n",
      "        33.32653061,  35.34693878,  37.36734694,  39.3877551 ,\n",
      "        41.40816327,  43.42857143,  45.44897959,  47.46938776,\n",
      "        49.48979592,  51.51020408,  53.53061224,  55.55102041,\n",
      "        57.57142857,  59.59183673,  61.6122449 ,  63.63265306,\n",
      "        65.65306122,  67.67346939,  69.69387755,  71.71428571,\n",
      "        73.73469388,  75.75510204,  77.7755102 ,  79.79591837,\n",
      "        81.81632653,  83.83673469,  85.85714286,  87.87755102,\n",
      "        89.89795918,  91.91836735,  93.93877551,  95.95918367,\n",
      "        97.97959184, 100.        ]), 2.020408163265306)\n",
      "Eye  [[0. 0. 1. 0. 0.]\n",
      " [0. 0. 0. 1. 0.]\n",
      " [0. 0. 0. 0. 1.]\n",
      " [0. 0. 0. 0. 0.]]\n",
      "rand()  [[0.03153679 0.67240512]\n",
      " [0.38392665 0.34808899]\n",
      " [0.80796902 0.51025264]]\n",
      "randn()  [[-0.8332769   1.91466661]\n",
      " [ 2.22995004 -0.36924831]\n",
      " [-3.18009648  0.21248732]]\n",
      "ranf()  [0.5008097  0.37658977 0.14245708]\n",
      "randint()  2\n"
     ]
    }
   ],
   "source": [
    "import numpy as np\n",
    "\n",
    "#Array()\n",
    "a=np.array([1,2,3,4,5])\n",
    "print('Array ',a)\n",
    "\n",
    "#Arange()\n",
    "b=np.arange(1,10,2)\n",
    "print('Arange ',b)\n",
    "\n",
    "#Zeros()--zeros(shape, dtype=float, order='c')\n",
    "print('Zeros ', np.zeros(10, dtype=float, order='F'))\n",
    "\n",
    "#ones()--ones(shape, dtype=None, order='c')\n",
    "print('ones ',np.ones(5))\n",
    "\n",
    "#Linspace()--linspace(start, stop, num = 50, endpoint = True, retstep = False, dtype = None)\n",
    "print('Linspace ',np.linspace(1.0, 3.0, num=5, retstep=True, endpoint=False))\n",
    "print(np.linspace(1, 100, num=50, retstep=True))\n",
    "\n",
    "#Eye()--eye(R(row), C(col)=None, k = 0, dtype=None, order='c')\n",
    "print('Eye ',np.eye(4,5,k=2)) \n",
    "\n",
    "#Random--random.rand(R,C) or rand()-uniformly distribute value(+), randn()-Normally distribute value(+,-), ranf(), randint()\n",
    "print('rand() ',np.random.rand(3,2))\n",
    "print('randn() ',np.random.randn(3,2))\n",
    "print('ranf() ',np.random.ranf(3))\n",
    "print('randint() ',np.random.randint(3))"
   ]
  },
  {
   "cell_type": "markdown",
   "metadata": {},
   "source": [
    "## Attributes of Array\n",
    "1.Dimension - ndim<br>\n",
    "2.Shape - a.shape<br>\n",
    "3.Size - a.size<br>\n",
    "4.Datatype - a.dtype<br>\n",
    "5.Itemsize - a.itemsize."
   ]
  },
  {
   "cell_type": "code",
   "execution_count": 3,
   "metadata": {},
   "outputs": [
    {
     "name": "stdout",
     "output_type": "stream",
     "text": [
      "2\n",
      "(2, 5)\n",
      "10\n",
      "int32\n",
      "4\n"
     ]
    }
   ],
   "source": [
    "import numpy as np\n",
    "att = np.array([[1,2,3,4,5],[6,7,8,9,10]])\n",
    "print(att.ndim)\n",
    "print(att.shape)\n",
    "print(att.size)\n",
    "print(att.dtype)\n",
    "print(att.itemsize)"
   ]
  },
  {
   "cell_type": "markdown",
   "metadata": {},
   "source": [
    "## Data Types\n",
    "Numerical Datatype:<br>\n",
    "*Boolean - (bool) - np.bool_ - '?' <br>\n",
    "*Integer - (int) - np.int_ - 'i' <br>\n",
    "*Float - (float) - np.float_ - 'f' <br>\n",
    "*Complex- (bool) - np.complex_ <br>\n",
    "*Unsigned integer - 'u' <br>\n",
    "*Byte - 'b' <br>\n",
    "*Unsingned bytes - 'B'"
   ]
  },
  {
   "cell_type": "code",
   "execution_count": 4,
   "metadata": {},
   "outputs": [
    {
     "name": "stdout",
     "output_type": "stream",
     "text": [
      "int32\n",
      "float32\n",
      "int32 - float : [1. 2. 3. 4. 5.]\n",
      "float32 - int32 : [0 0 0 0 0]\n"
     ]
    }
   ],
   "source": [
    "import numpy as np\n",
    "arr1=np.array([1,2,3,4,5])\n",
    "print(arr1.dtype)\n",
    "arr2=np.zeros(5,dtype='f')\n",
    "print(arr2.dtype)\n",
    "\n",
    "#Two ways to convert datatype\n",
    "print('int32 - float :',arr1.astype(float))\n",
    "print('float32 - int32 :',np.int32(arr2))"
   ]
  },
  {
   "cell_type": "markdown",
   "metadata": {},
   "source": [
    "## Slicing\n",
    "1D - name [start:end:step] <br>\n",
    "2D - name [start:end:step, start:end:step] - [i(row),j(col)] <br>\n",
    "3D - name [start:end:step, start:end:step, start:end:step] - [i(no.of array),j(row),k(col)] "
   ]
  },
  {
   "cell_type": "code",
   "execution_count": 5,
   "metadata": {},
   "outputs": [
    {
     "name": "stdout",
     "output_type": "stream",
     "text": [
      "Index 1 to index 5  [2 3 4 5]\n",
      "Index 4 to the end of the array  [5 6 7]\n",
      "Beginning to index 4 (not included)  [1 2 3 4]\n",
      "Index 3 from the end to index 1  [5 6]\n",
      "Element from index 1 to index 5  [2 4]\n",
      "Return every other element from the entire array  [1 3 5 7]\n"
     ]
    }
   ],
   "source": [
    "#1D \n",
    "import numpy as np\n",
    "arr3=np.array([1, 2, 3, 4, 5, 6, 7])\n",
    "print('Index 1 to index 5 ',arr3[1:5]) \n",
    "print('Index 4 to the end of the array ',arr3[4:])\n",
    "print('Beginning to index 4 (not included) ',arr3[:4])\n",
    "#Negative Slicing\n",
    "print('Index 3 from the end to index 1 ',arr3[-3:-1])\n",
    "print('Element from index 1 to index 5 ',arr3[1:5:2])\n",
    "print('Return every other element from the entire array ',arr3[::2])\n"
   ]
  },
  {
   "cell_type": "code",
   "execution_count": 6,
   "metadata": {},
   "outputs": [
    {
     "name": "stdout",
     "output_type": "stream",
     "text": [
      "[7 8 9]\n",
      "[3 8]\n",
      "[[2 3 4]\n",
      " [7 8 9]]\n"
     ]
    }
   ],
   "source": [
    "#2D\n",
    "import numpy as np\n",
    "arr4=np.array([[1, 2, 3, 4, 5], [6, 7, 8, 9, 10]])\n",
    "print(arr4[1, 1:4]) #From the second element, slice elements from index 1 to index 4 (not included)\n",
    "print(arr4[0:2, 2]) #From both elements, return index 2\n",
    "print(arr4[0:2, 1:4]) #From both elements, slice index 1 to index 4 (not included), this will return a 2-D array"
   ]
  },
  {
   "cell_type": "markdown",
   "metadata": {},
   "source": [
    "## Array Indexing\n",
    "-->Array indexing is the same as accessing an array element.<br>\n",
    "-->You can access an array element by referring to its index number.<br>\n",
    "-->The indexes in NumPy arrays start with 0, meaning that the first element has index 0, and the second has index 1 etc."
   ]
  },
  {
   "cell_type": "code",
   "execution_count": 7,
   "metadata": {},
   "outputs": [
    {
     "name": "stdout",
     "output_type": "stream",
     "text": [
      "Range of numbers 1 to 9:  [1 2 3 4 5 6 7 8 9]\n",
      "Get the first element:  1\n",
      "Get the second element:  2\n",
      "Get third and fourth elements:  9\n",
      "Access index from another array:  [2 5 6]\n",
      "2nd element on 1st dim:  2\n",
      "5th element on 2nd dim:  10\n",
      "3D array indexing:  6\n",
      "Last element from 2nd dim:  10\n"
     ]
    }
   ],
   "source": [
    "import numpy as np\n",
    "#Access 1-D Arrays\n",
    "index=np.arange(1,10)\n",
    "print('Range of numbers 1 to 9: ',index)\n",
    "print('Get the first element: ',index[0])\n",
    "print('Get the second element: ',index[1])\n",
    "print('Get third and fourth elements: ',index[3]+index[4])\n",
    "arr5=np.array([1,4,5])\n",
    "print('Access index from another array: ',index[arr5])\n",
    "\n",
    "#Access 2-D Arrays\n",
    "arr6 = np.array([[1,2,3,4,5], [6,7,8,9,10]])\n",
    "print('2nd element on 1st dim: ', arr6[0, 1])\n",
    "print('5th element on 2nd dim: ', arr6[1, 4])\n",
    "\n",
    "#Access 3-D Arrays\n",
    "arr7 = np.array([[[1, 2, 3], [4, 5, 6]], [[7, 8, 9], [10, 11, 12]]])\n",
    "print('3D array indexing: ',arr7[0, 1, 2])\n",
    "\n",
    "#Negative Indexing\n",
    "print('Last element from 2nd dim: ', arr6[1, -1])"
   ]
  },
  {
   "cell_type": "markdown",
   "metadata": {},
   "source": [
    "## Arithmetic Operator\n",
    "-->Using scalar - constant element to an array <br>\n",
    "-->Between two array - Add two array or multiply <br>\n",
    "Notes:<br>\n",
    "1. a+b =>np.add(a,b) <br>\n",
    "2. a-b =>np.subtract(a,b) <br>\n",
    "3. a*b =>np.multiply(a,b) <br>\n",
    "4. a/b =>np.divide(a,b) <br>\n",
    "5. a%b =>np.mod(a,b) <br>\n",
    "6. a**b =>np.power(a,b)"
   ]
  },
  {
   "cell_type": "code",
   "execution_count": 8,
   "metadata": {},
   "outputs": [
    {
     "name": "stdout",
     "output_type": "stream",
     "text": [
      "Addition scalar one:  [4 5 6 7]\n",
      "Multiplication scalar one:  [ 3  6  9 12]\n",
      "Addition scalar two:   [[3 4]\n",
      " [5 6]]\n",
      "Multiplication scalar two:  [[2 4]\n",
      " [6 8]]\n",
      "Addition two array:   [[ 6  8]\n",
      " [10  7]]\n",
      "Multiplication two array:   [[ 5 12]\n",
      " [21 12]]\n"
     ]
    }
   ],
   "source": [
    "import numpy as np\n",
    "#1D Operation\n",
    "op_scalar_one = np.arange(1,5)\n",
    "print('Addition scalar one: ',op_scalar_one +3)\n",
    "print('Multiplication scalar one: ',op_scalar_one *3)\n",
    "\n",
    "#2D Operation\n",
    "op_scalar_two=np.array([[1,2],[3,4]])\n",
    "op_two_array=np.array([[5,6],[7,3]])\n",
    "print('Addition scalar two:  ',op_scalar_two + 2)\n",
    "print('Multiplication scalar two: ',op_scalar_two * 2)\n",
    "print('Addition two array:  ',op_scalar_two + op_two_array)\n",
    "print('Multiplication two array:  ',op_scalar_two * op_two_array)"
   ]
  },
  {
   "cell_type": "markdown",
   "metadata": {},
   "source": [
    "## Broadcasting Rule\n",
    "Numpy treats arrays with different shapes during arithmetic operations. <br>\n",
    "Rule: <br>\n",
    "When operating on two arrays, NumPy compares their shapes element-wise. It starts with the trailing (i.e. rightmost) dimensions and works its way left. Two dimensions are compatible when<br>\n",
    "1). they are equal, or <br>\n",
    "2). one of them is 1"
   ]
  },
  {
   "cell_type": "code",
   "execution_count": 9,
   "metadata": {},
   "outputs": [
    {
     "name": "stdout",
     "output_type": "stream",
     "text": [
      "aa ndim & shape:  2 (3, 2)\n",
      "bb ndim & shape:  1 (3,)\n",
      "cc ndim & shape:  1 (2,)\n",
      "dd ndim & shape:  2 (3, 1)\n",
      "aa(3,2) & cc(2,1) :  [[ 10  40]\n",
      " [ 30  80]\n",
      " [ 50 120]]\n",
      "aa(3,2) & dd(3,1) :  [[ 1  2]\n",
      " [ 6  8]\n",
      " [15 18]]\n",
      "bb(3,2) & dd(3,1) :  [[1 2 3]\n",
      " [2 4 6]\n",
      " [3 6 9]]\n"
     ]
    }
   ],
   "source": [
    "import numpy as np\n",
    "aa=np.array([[1,2],[3,4],[5,6]])\n",
    "bb=np.array([1,2,3])\n",
    "cc=np.array([10,20])\n",
    "dd=np.array([[1],[2],[3]])\n",
    "ee=np.array([0])\n",
    "\n",
    "print('aa ndim & shape: ',aa.ndim, aa.shape)\n",
    "print('bb ndim & shape: ',bb.ndim, bb.shape)\n",
    "print('cc ndim & shape: ',cc.ndim, cc.shape)\n",
    "print('dd ndim & shape: ',dd.ndim, dd.shape)\n",
    "\n",
    "print('aa(3,2) & cc(2,1) : ',aa*cc)\n",
    "print('aa(3,2) & dd(3,1) : ',aa*dd)\n",
    "print('bb(3,2) & dd(3,1) : ',bb*dd)"
   ]
  },
  {
   "cell_type": "code",
   "execution_count": 10,
   "metadata": {},
   "outputs": [
    {
     "name": "stdout",
     "output_type": "stream",
     "text": [
      "x: \n",
      " [0 1 2 3]\n",
      "xx: \n",
      " [[0]\n",
      " [1]\n",
      " [2]\n",
      " [3]]\n",
      "y: \n",
      " [1. 1. 1. 1. 1.]\n",
      "z: \n",
      " [[1. 1. 1. 1.]\n",
      " [1. 1. 1. 1.]\n",
      " [1. 1. 1. 1.]]\n",
      "\n",
      "x ndim & shape:  1 (4,)\n",
      "xx ndim & shape:  2 (4, 1)\n",
      "y ndim & shape:  1 (5,)\n",
      "z ndim & shape:  2 (3, 4)\n",
      "\n",
      "xx + y shape:  (4, 5)\n",
      "Adding xx+y: \n",
      " [[1. 1. 1. 1. 1.]\n",
      " [2. 2. 2. 2. 2.]\n",
      " [3. 3. 3. 3. 3.]\n",
      " [4. 4. 4. 4. 4.]]\n",
      "\n",
      "x + z shape (3, 4)\n",
      "Adding x+z: \n",
      " [[1. 2. 3. 4.]\n",
      " [1. 2. 3. 4.]\n",
      " [1. 2. 3. 4.]]\n"
     ]
    }
   ],
   "source": [
    "x = np.arange(4)\n",
    "xx = x.reshape(4,1)\n",
    "y = np.ones(5)\n",
    "z = np.ones((3,4))\n",
    "\n",
    "print('x: \\n',x)\n",
    "print('xx: \\n',xx)\n",
    "print('y: \\n',y)\n",
    "print('z: \\n',z)\n",
    "\n",
    "print('\\nx ndim & shape: ',x.ndim, x.shape)\n",
    "print('xx ndim & shape: ',xx.ndim, xx.shape)\n",
    "print('y ndim & shape: ',y.ndim, y.shape)\n",
    "print('z ndim & shape: ',z.ndim, z.shape)\n",
    "\n",
    "print('\\nxx + y shape: ',(xx + y).shape)\n",
    "print('Adding xx+y: \\n',(xx + y))\n",
    "print('\\nx + z shape',(x + z).shape)\n",
    "print('Adding x+z: \\n',(x + z))"
   ]
  },
  {
   "cell_type": "markdown",
   "metadata": {},
   "source": [
    "## Array Manipulation\n",
    "* Reshaping array <br>\n",
    "* Array Flattening <br>\n",
    "* Dimension Shuffling <br>\n",
    "* Joining array <br>\n",
    "* Splitting array <br>\n",
    "* Add/Remove elements"
   ]
  },
  {
   "cell_type": "markdown",
   "metadata": {},
   "source": [
    "### **Reshaping array**\n",
    "* reshape()<br>\n",
    "    ->Reshaping means changing the shape of an array.<br>\n",
    "    ->The shape of an array is the number of elements in each dimension.<br>\n",
    "    ->By reshaping we can add or remove dimensions or change number of elements in each dimension.<br>\n",
    " **(numpy.reshape(array, shape, order='c'))**--'C'=row, 'F'=col, 'A'=fortran \n",
    "\n",
    "\n",
    "* resize()<br>\n",
    " **(numpy.resize(array,shape))**"
   ]
  },
  {
   "cell_type": "code",
   "execution_count": 11,
   "metadata": {},
   "outputs": [
    {
     "name": "stdout",
     "output_type": "stream",
     "text": [
      "Reshape From 1-D to 2-D: \n",
      " [[ 1  2  3]\n",
      " [ 4  5  6]\n",
      " [ 7  8  9]\n",
      " [10 11 12]]\n",
      "Reshape From 1-D to 3-D: \n",
      " [[[ 1  2]\n",
      "  [ 3  4]\n",
      "  [ 5  6]]\n",
      "\n",
      " [[ 7  8]\n",
      "  [ 9 10]\n",
      "  [11 12]]]\n",
      "Returns Copy or View: \n",
      " [1 2 3 4 5 6 7 8]\n",
      "Unknown Dimension: \n",
      " [[[1 2]\n",
      "  [3 4]]\n",
      "\n",
      " [[5 6]\n",
      "  [7 8]]]\n",
      "Unknown Dimension: \n",
      " [[1 2 3 4]\n",
      " [5 6 7 8]]\n"
     ]
    }
   ],
   "source": [
    "#reshape()\n",
    "import numpy as np\n",
    "ar1 = np.array([1, 2, 3, 4, 5, 6, 7, 8, 9, 10, 11, 12])\n",
    "\n",
    "#Reshape From 1-D to 2-D\n",
    "newarr1 = ar1.reshape(4, 3)\n",
    "print('Reshape From 1-D to 2-D: \\n',newarr1)\n",
    "\n",
    "#Reshape From 1-D to 2-D\n",
    "newarr2 = ar1.reshape(2, 3, 2)\n",
    "print('Reshape From 1-D to 3-D: \\n',newarr2)\n",
    "\n",
    "#Returns Copy or View?\n",
    "ar3 = np.array([1, 2, 3, 4, 5, 6, 7, 8])\n",
    "print('Returns Copy or View: \\n',ar3.reshape(2, 4).base)\n",
    "\n",
    "#Unknown Dimension--use last at -1\n",
    "newarr3 = ar3.reshape(2, 2, -1)\n",
    "print('Unknown Dimension: \\n',newarr3)\n",
    "newarr4 = ar3.reshape(2, -1)\n",
    "print('Unknown Dimension: \\n',newarr4)"
   ]
  },
  {
   "cell_type": "code",
   "execution_count": 12,
   "metadata": {
    "scrolled": true
   },
   "outputs": [
    {
     "name": "stdout",
     "output_type": "stream",
     "text": [
      "Range of values:  [0 1 2 3 4]\n",
      "Resize the elements of 2 & 3: \n",
      " [[0 1 2]\n",
      " [3 4 0]\n",
      " [1 2 3]]\n"
     ]
    }
   ],
   "source": [
    "#resize\n",
    "import numpy as np\n",
    "a1=np.arange(5)\n",
    "print('Range of values: ',a1)\n",
    "print('Resize the elements of 2 & 3: \\n',np.resize(a1,(3,3)))"
   ]
  },
  {
   "cell_type": "markdown",
   "metadata": {},
   "source": [
    "### **Array Flattening**\n",
    "* flatten()<br>\n",
    " **(numpy.flatten(order='c'))**--'C'=row, 'F'=col, 'A'=fortran , 'K'=memory\n",
    "\n",
    "\n",
    "* ravel()<br>\n",
    " **(numpy.ravel(a,order='c'))**"
   ]
  },
  {
   "cell_type": "code",
   "execution_count": 13,
   "metadata": {},
   "outputs": [
    {
     "name": "stdout",
     "output_type": "stream",
     "text": [
      "ndim & shape:  3 (2, 2, 3)\n",
      "C - row:  [ 1  2  3  3  4  5  6  7  8  9 10 11]\n",
      "F - col:  [ 1  6  3  9  2  7  4 10  3  8  5 11]\n",
      "A - fortran :  [ 1  2  3  3  4  5  6  7  8  9 10 11]\n",
      "K - memory:  [ 1  2  3  3  4  5  6  7  8  9 10 11]\n",
      "Ravel method:  [ 1  2  3  3  4  5  6  7  8  9 10 11]\n",
      "Using Reshape method to flatten:  [ 1  2  3  3  4  5  6  7  8  9 10 11]\n"
     ]
    }
   ],
   "source": [
    "import numpy as np\n",
    "#flatten\n",
    "fl=np.array([[[1,2,3],[3,4,5]],[[6,7,8],[9,10,11]]])\n",
    "print('ndim & shape: ',fl.ndim, fl.shape)\n",
    "print('C - row: ',fl.flatten())\n",
    "print('F - col: ',fl.flatten(order='F'))\n",
    "print('A - fortran : ',fl.flatten(order='A'))\n",
    "print('K - memory: ',fl.flatten(order='K'))\n",
    "\n",
    "#ravel()--Return a contiguous flattened array.\n",
    "print('Ravel method: ',fl.ravel())\n",
    "\n",
    "print('Using Reshape method to flatten: ',fl.reshape(-1))"
   ]
  },
  {
   "cell_type": "markdown",
   "metadata": {},
   "source": [
    "### **Dimension Shuffling**\n",
    "* transpose()<br>\n",
    " **(numpy.transpose(array, axes=None))**--axes-(1,0) or (0,1)\n",
    "\n",
    "\n",
    "* swapaxes()<br>\n",
    " **(numpy.swapaxes(array,axis1,axis2))**"
   ]
  },
  {
   "cell_type": "code",
   "execution_count": 14,
   "metadata": {},
   "outputs": [
    {
     "name": "stdout",
     "output_type": "stream",
     "text": [
      "Before Transpose: \n",
      " [[ 1  2]\n",
      " [ 3  4]\n",
      " [ 5  6]\n",
      " [ 7  8]\n",
      " [ 9 10]]\n",
      "After Transpose: \n",
      " [[ 1  3  5  7  9]\n",
      " [ 2  4  6  8 10]]\n",
      "\n",
      "Before Transpose: \n",
      " [[[ 1  2  3  4]\n",
      "  [ 5  6  7  8]\n",
      "  [ 9 10 11 12]]\n",
      "\n",
      " [[13 14 15 16]\n",
      "  [17 18 19 20]\n",
      "  [21 22 23 24]]]\n",
      "After Transpose: \n",
      " [[[ 1 13]\n",
      "  [ 2 14]\n",
      "  [ 3 15]\n",
      "  [ 4 16]]\n",
      "\n",
      " [[ 5 17]\n",
      "  [ 6 18]\n",
      "  [ 7 19]\n",
      "  [ 8 20]]\n",
      "\n",
      " [[ 9 21]\n",
      "  [10 22]\n",
      "  [11 23]\n",
      "  [12 24]]]\n"
     ]
    }
   ],
   "source": [
    "#transpose\n",
    "import numpy as np\n",
    "tran=np.arange(1,11).reshape(5,2)\n",
    "print('Before Transpose: \\n',tran)\n",
    "print('After Transpose: \\n',tran.transpose())\n",
    "\n",
    "#axes 0:2, axes 1:3, axes 2:4\n",
    "trans=np.arange(1,25).reshape(2,3,4)\n",
    "print('\\nBefore Transpose: \\n',trans)\n",
    "print('After Transpose: \\n',trans.transpose(1,2,0))"
   ]
  },
  {
   "cell_type": "code",
   "execution_count": 15,
   "metadata": {},
   "outputs": [
    {
     "name": "stdout",
     "output_type": "stream",
     "text": [
      "(2, 2)\n",
      "[[2 1]\n",
      " [5 4]]\n"
     ]
    }
   ],
   "source": [
    "#swapaxes()--only use for two dimension\n",
    "swap=np.array([[1,2],[4,5]])\n",
    "swap[:,[0, 1]] = swap[:,[1, 0]]\n",
    "print(swap.shape)\n",
    "print(swap)"
   ]
  },
  {
   "cell_type": "code",
   "execution_count": 16,
   "metadata": {},
   "outputs": [
    {
     "name": "stdout",
     "output_type": "stream",
     "text": [
      "Shape:  (2, 2, 2)\n",
      "swap of axis 2: \n",
      " [[[0 4]\n",
      "  [2 6]]\n",
      "\n",
      " [[1 5]\n",
      "  [3 7]]]\n",
      "swap of axis 1: \n",
      " [[[0 1]\n",
      "  [4 5]]\n",
      "\n",
      " [[2 3]\n",
      "  [6 7]]]\n"
     ]
    }
   ],
   "source": [
    "xyz = np.array([[[0,1],[2,3]],[[4,5],[6,7]]])\n",
    "print('Shape: ',xyz.shape)\n",
    "print('swap of axis 2: \\n',np.swapaxes(xyz,0,2))\n",
    "print('swap of axis 1: \\n',np.swapaxes(xyz,0,1))"
   ]
  },
  {
   "cell_type": "markdown",
   "metadata": {},
   "source": [
    "### **Joining array**\n",
    "* concatenate()<br>\n",
    " **(numpy.concatenate((a1, a2, ...), axis=0, out=None, dtype=None, casting=\"same_kind\"))**--a1, a2,sequence of array_like\n",
    "\n",
    "\n",
    "* vstack()<br>\n",
    " **(numpy.vstack(tup))**--Stack arrays in sequence vertically (row wise).\n",
    " \n",
    "\n",
    "* hstack()<br>\n",
    " **(numpy.hstack(tup))**--Stack arrays in sequence horizontally (column wise)."
   ]
  },
  {
   "cell_type": "code",
   "execution_count": 17,
   "metadata": {},
   "outputs": [
    {
     "name": "stdout",
     "output_type": "stream",
     "text": [
      "Concatenate the two range of con1 & con2:  [0 1 2 3 4 5 6 7 8 9 0 1 2 3 4 5]\n",
      "outndarray, optional:  [0. 1. 2. 3. 4. 5. 6. 7. 8. 9. 0. 1. 2. 3. 4. 5.]\n",
      "Axis is None, arrays are flattened before use. Default is 0:  [0 1 2 3 4 5 6 7 8 9 0 1 2 3 4 5]\n"
     ]
    }
   ],
   "source": [
    "#concatenate\n",
    "import numpy as np\n",
    "con1=np.arange(10)\n",
    "con2=np.arange(0,6)\n",
    "con3=np.zeros(16)\n",
    "print('Concatenate the two range of con1 & con2: ',np.concatenate((con1,con2)))\n",
    "print('outndarray, optional: ',np.concatenate((con1,con2),out=con3))\n",
    "print('Axis is None, arrays are flattened before use. Default is 0: ',np.concatenate((con1,con2.T),axis=0))\n"
   ]
  },
  {
   "cell_type": "code",
   "execution_count": 18,
   "metadata": {},
   "outputs": [
    {
     "name": "stdout",
     "output_type": "stream",
     "text": [
      "vstack:s1 & s2 \n",
      " [[1 2 3]\n",
      " [4 5 6]]\n",
      "vstack:s3 & s4 \n",
      " [[1]\n",
      " [2]\n",
      " [3]\n",
      " [4]\n",
      " [5]\n",
      " [6]]\n",
      "hstack:s1 & s2 \n",
      " [1 2 3 4 5 6]\n",
      "hstack:s3 & s4 \n",
      " [[1 4]\n",
      " [2 5]\n",
      " [3 6]]\n"
     ]
    }
   ],
   "source": [
    "#vstack\n",
    "import numpy as np\n",
    "s1 = np.array([1, 2, 3])\n",
    "s2 = np.array([4, 5, 6])\n",
    "s3 = np.array([[1], [2], [3]])\n",
    "s4 = np.array([[4], [5], [6]])\n",
    "print('vstack:s1 & s2 \\n',np.vstack((s1,s2))) \n",
    "print('vstack:s3 & s4 \\n',np.vstack((s3,s4))) \n",
    "print('hstack:s1 & s2 \\n',np.hstack((s1,s2))) \n",
    "print('hstack:s3 & s4 \\n',np.hstack((s3,s4)))"
   ]
  },
  {
   "cell_type": "markdown",
   "metadata": {},
   "source": [
    "### **Splitting array**\n",
    "* split()<br>\n",
    " **(numpy.split(ary, indices_or_sections, axis=0))**--Split array into a list of multiple sub-arrays of equal size.\n",
    "\n",
    "\n",
    "* vsplit()<br>\n",
    " **(numpy.vsplit(ary, indices_or_sections))**--Split array into multiple sub-arrays vertically (row wise).\n",
    " \n",
    "\n",
    "* hsplit()<br>\n",
    " **(numpy.hsplit(ary, indices_or_sections))**--Split array into multiple sub-arrays horizontally (column wise).\n",
    " \n",
    "\n",
    "* dsplit()<br>\n",
    " **(numpy.dsplit(ary, indices_or_sections))**--Split array into multiple sub-arrays along the 3rd axis (depth)."
   ]
  },
  {
   "cell_type": "code",
   "execution_count": 19,
   "metadata": {
    "scrolled": true
   },
   "outputs": [
    {
     "name": "stdout",
     "output_type": "stream",
     "text": [
      "Split the range of 3:  [array([0, 1, 2]), array([3, 4, 5]), array([6, 7, 8])]\n",
      "Split the range of given list:  [array([0, 1, 2]), array([3, 4]), array([5, 6, 7]), array([8])]\n",
      "vsplit: \n",
      " [array([[0., 1., 2., 3.],\n",
      "       [4., 5., 6., 7.]]), array([[ 8.,  9., 10., 11.],\n",
      "       [12., 13., 14., 15.]])]\n",
      "hsplit: \n",
      " [array([[ 0.,  1.],\n",
      "       [ 4.,  5.],\n",
      "       [ 8.,  9.],\n",
      "       [12., 13.]]), array([[ 2.,  3.],\n",
      "       [ 6.,  7.],\n",
      "       [10., 11.],\n",
      "       [14., 15.]])]\n",
      "dsplit: \n",
      " [array([[[ 0.,  1.],\n",
      "        [ 4.,  5.]],\n",
      "\n",
      "       [[ 8.,  9.],\n",
      "        [12., 13.]]]), array([[[ 2.,  3.],\n",
      "        [ 6.,  7.]],\n",
      "\n",
      "       [[10., 11.],\n",
      "        [14., 15.]]])]\n"
     ]
    }
   ],
   "source": [
    "import numpy as np\n",
    "#split()\n",
    "sp1= np.arange(0,9)\n",
    "print('Split the range of 3: ',np.split(sp1,3))\n",
    "print('Split the range of given list: ',np.split(sp1,[3,5,8]))\n",
    "\n",
    "vsp1=np.arange(16.0).reshape(4, 4)\n",
    "\n",
    "#vsplit()\n",
    "print('vsplit: \\n',np.vsplit(vsp1,2))\n",
    "\n",
    "#hsplit()\n",
    "print('hsplit: \\n',np.hsplit(vsp1,2))\n",
    "\n",
    "#dsplit()--It works only for 3 or more dim\n",
    "dsp=np.arange(16.0).reshape(2, 2, 4)\n",
    "print('dsplit: \\n',np.dsplit(dsp,2))"
   ]
  },
  {
   "cell_type": "markdown",
   "metadata": {},
   "source": [
    "### **Add/Remove elements**\n",
    "* Insert()<br>\n",
    " **(numpy.insert(arr, obj, values, axis=None))**--Insert values along the given axis before the given indices.\n",
    "\n",
    "\n",
    "* Append()<br>\n",
    " **(numpy.append(arr, values, axis=None))**--Append values to the end of an array.\n",
    " \n",
    "\n",
    "* Delete()<br>\n",
    " **(numpy.delete(arr, obj, axis=None))**"
   ]
  },
  {
   "cell_type": "code",
   "execution_count": 20,
   "metadata": {},
   "outputs": [
    {
     "name": "stdout",
     "output_type": "stream",
     "text": [
      "printing values: \n",
      " [[1 1]\n",
      " [2 2]\n",
      " [3 3]]\n",
      "Insert 1 & 5: \n",
      " [1 5 1 2 2 3 3]\n",
      "Insert 1 & 5 in axis 1: \n",
      " [[1 5 1]\n",
      " [2 5 2]\n",
      " [3 5 3]]\n",
      "Append 1D to 2D: \n",
      " [1 2 3 4 5 6 7 8 9]\n",
      "Append 2D to 2D: \n",
      " [[1 2 3]\n",
      " [4 5 6]\n",
      " [7 8 9]]\n",
      "Delete the list of 1,3,5: \n",
      " [ 1  3  5  7  8  9 10 11 12]\n",
      "Delete the 2 element of ins: \n",
      " [1 1 2 3 3]\n",
      "Delete the 1 row of ins: \n",
      " [[1 1]\n",
      " [3 3]]\n",
      "Delete the 1 col of ins: \n",
      " [[1]\n",
      " [2]\n",
      " [3]]\n"
     ]
    }
   ],
   "source": [
    "import numpy as np\n",
    "#insert()\n",
    "ins = np.array([[1, 1], [2, 2], [3, 3]])\n",
    "print('printing values: \\n',ins)\n",
    "print('Insert 1 & 5: \\n',np.insert(ins, 1, 5))\n",
    "print('Insert 1 & 5 in axis 1: \\n',np.insert(ins, 1, 5, axis=1))\n",
    "\n",
    "#append()\n",
    "print('Append 1D to 2D: \\n',np.append([1, 2, 3], [[4, 5, 6], [7, 8, 9]]))\n",
    "print('Append 2D to 2D: \\n',np.append([[1, 2, 3], [4, 5, 6]], [[7, 8, 9]], axis=0))\n",
    "\n",
    "#delete()\n",
    "dele=np.array([[1,2,3,4], [5,6,7,8], [9,10,11,12]])\n",
    "\n",
    "print('Delete the list of 1,3,5: \\n',np.delete(dele, [1,3,5], None))\n",
    "print('Delete the 2 element of ins: \\n',np.delete(ins,2, None))\n",
    "print('Delete the 1 row of ins: \\n',np.delete(ins,1,axis=0)) #axis=0 Horizantal\n",
    "print('Delete the 1 col of ins: \\n',np.delete(ins,1,axis=1)) #axis=1 Vertical"
   ]
  },
  {
   "cell_type": "markdown",
   "metadata": {},
   "source": [
    "## Matrix\n",
    "* Matrix Addition\n",
    "* Matrix Multiplication (* array multiply, dot(.) Matrix multiply)\n",
    "* Matrix Class  **(numpy.matrix (data, dtype=None, copy=True))** <br>\n",
    "\n",
    "**Rule:** <br>\n",
    "    1). Matrix can be created using string notation <br>\n",
    "    2). Matrix objects are always 2D <br>\n",
    "    3). Can use * for matrix multiply <br>"
   ]
  },
  {
   "cell_type": "code",
   "execution_count": 38,
   "metadata": {},
   "outputs": [
    {
     "name": "stdout",
     "output_type": "stream",
     "text": [
      "Matrix Addition(+): \n",
      " [[11 22]\n",
      " [33 44]]\n",
      "Matrix Sutraction(-): \n",
      " [[ -9 -18]\n",
      " [-27 -36]]\n",
      "Array Multiplication(*): \n",
      " [[ 10  40]\n",
      " [ 90 160]]\n",
      "Matrix Multiplication(.dot()): \n",
      " [[ 70 100]\n",
      " [150 220]]\n",
      "Matrix class: \n",
      " [[1. 2.]\n",
      " [3. 4.]]\n",
      "Matrix class: \n",
      " [[10 20]\n",
      " [30 40]]\n",
      "Matrix Transpose: \n",
      " [[10 30]\n",
      " [20 40]]\n"
     ]
    }
   ],
   "source": [
    "import numpy as np\n",
    "\n",
    "#Matrix Addition\n",
    "maa=np.array([[1,2],[3,4]])\n",
    "mab=np.array([[10,20],[30,40]])\n",
    "print('Matrix Addition(+): \\n',maa+mab)\n",
    "print('Matrix Sutraction(-): \\n',maa-mab)\n",
    "\n",
    "#Matrix Multiplication\n",
    "print('Array Multiplication(*): \\n',maa*mab)\n",
    "print('Matrix Multiplication(.dot()): \\n',maa.dot(mab))\n",
    "\n",
    "#Matrix class\n",
    "mca=np.matrix(\"1 2;3 4\", dtype='f')\n",
    "print('Matrix class: \\n',mca)\n",
    "mcb=np.matrix([[10,20],[30,40]], dtype='i')\n",
    "print('Matrix class: \\n',mcb)\n",
    "print('Matrix Transpose: \\n',mcb.T)"
   ]
  },
  {
   "cell_type": "markdown",
   "metadata": {},
   "source": [
    "## Linear algebra module\n",
    "**Syntax**: numpy.linalg\n",
    "   * Invert\n",
    "   * Power\n",
    "   * Linear equation\n",
    "   * Determinants of matrix"
   ]
  },
  {
   "cell_type": "code",
   "execution_count": 41,
   "metadata": {},
   "outputs": [
    {
     "name": "stdout",
     "output_type": "stream",
     "text": [
      "[[-2.   1. ]\n",
      " [ 1.5 -0.5]]\n"
     ]
    },
    {
     "data": {
      "text/plain": [
       "'a=([[a,b],[c,d]])\\n   a=1/ad-bc ([[d,-b],[-c,a]]) '"
      ]
     },
     "execution_count": 41,
     "metadata": {},
     "output_type": "execute_result"
    }
   ],
   "source": [
    "import numpy as np\n",
    "#invert()- Inverse the given square matrix.\n",
    "#numpy.linalg.inv(a)\n",
    "inv_a=np.array([[1,2],[3,4]])\n",
    "print(np.linalg.inv(inv_a))\n",
    "\n",
    "#Explanation:\n",
    "'''a=([[a,b],[c,d]])\n",
    "   a=1/ad-bc ([[d,-b],[-c,a]]) '''"
   ]
  },
  {
   "cell_type": "code",
   "execution_count": 48,
   "metadata": {},
   "outputs": [
    {
     "name": "stdout",
     "output_type": "stream",
     "text": [
      "using np.dot(a,a): \n",
      " [[ 7 10]\n",
      " [15 22]]\n",
      "n>0 Power is repeated: \n",
      " [[ 7 10]\n",
      " [15 22]]\n",
      "n=0 Identity matrix: \n",
      " [[1 0]\n",
      " [0 1]]\n",
      "n<0 Inverese is computed & raised to its abs value: \n",
      " [[ 5.5  -2.5 ]\n",
      " [-3.75  1.75]]\n"
     ]
    },
    {
     "data": {
      "text/plain": [
       "'A**2=A.A , A**3=A.A.A ==>(n>0)\\n   A**-1=A.A ==>(n<0)'"
      ]
     },
     "execution_count": 48,
     "metadata": {},
     "output_type": "execute_result"
    }
   ],
   "source": [
    "import numpy as np\n",
    "#power()- a (matrix), n (power)\n",
    "#numpy.linalg.matrix_power(a,n)\n",
    "pow_a=np.array([[1,2],[3,4]])\n",
    "print('using np.dot(a,a): \\n',np.dot(pow_a,pow_a))\n",
    "print('n>0 Power is repeated: \\n',np.linalg.matrix_power(pow_a,2))\n",
    "print('n=0 Identity matrix: \\n',np.linalg.matrix_power(pow_a,0))\n",
    "print('n<0 Inverese is computed & raised to its abs value: \\n',np.linalg.matrix_power(pow_a,-2))\n",
    "\n",
    "#Explanation:\n",
    "'''A**2=A.A , A**3=A.A.A ==>(n>0)\n",
    "   A**-1=A.A ==>(n<0)'''"
   ]
  },
  {
   "cell_type": "code",
   "execution_count": 53,
   "metadata": {},
   "outputs": [
    {
     "name": "stdout",
     "output_type": "stream",
     "text": [
      "Linear equation lin_a & lin_b: \n",
      " [2. 3.]\n",
      "Linear equation lin_aa & lin_bb: \n",
      " [2. 3. 1.]\n"
     ]
    },
    {
     "data": {
      "text/plain": [
       "'AX=B (A-Matrix, X-Variable, B-Constant) \\n   3x+y=9, x+2y=8 ==> a=([[3,1],[1,2]]) b=([9,8])'"
      ]
     },
     "execution_count": 53,
     "metadata": {},
     "output_type": "execute_result"
    }
   ],
   "source": [
    "import numpy as np\n",
    "#linear equation()- To find out the unknown values\n",
    "#numpy.linalg.solve(a,b)\n",
    "lin_a=np.array([[3,1],[1,2]])\n",
    "lin_b=np.array([9,8])\n",
    "print('Linear equation lin_a & lin_b: \\n',np.linalg.solve(lin_a,lin_b))\n",
    "lin_aa=np.array([[6,2,-5],[3,3,-2],[7,5,-3]])\n",
    "lin_bb=np.array([13,13,26])\n",
    "print('Linear equation lin_aa & lin_bb: \\n',np.linalg.solve(lin_aa,lin_bb))\n",
    "\n",
    "#Explanation:\n",
    "'''AX=B (A-Matrix, X-Variable, B-Constant) \n",
    "   3x+y=9, x+2y=8 ==> a=([[3,1],[1,2]]) b=([9,8])'''"
   ]
  },
  {
   "cell_type": "code",
   "execution_count": 56,
   "metadata": {},
   "outputs": [
    {
     "name": "stdout",
     "output_type": "stream",
     "text": [
      "-2\n"
     ]
    },
    {
     "data": {
      "text/plain": [
       "'A=([[a,b],[c,d]])=ad - bc\\n   A=([[1,2],[3,4]])=4-6 = -2'"
      ]
     },
     "execution_count": 56,
     "metadata": {},
     "output_type": "execute_result"
    }
   ],
   "source": [
    "import numpy as np\n",
    "#determinant of a matrix\n",
    "#numpy.linalg.det(a)\n",
    "det_a=np.array([[1,2],[3,4]])\n",
    "print(round(np.linalg.det(det_a)))\n",
    "\n",
    "#Explanation:\n",
    "'''A=([[a,b],[c,d]])=ad - bc\n",
    "   A=([[1,2],[3,4]])=4-6 = -2'''"
   ]
  }
 ],
 "metadata": {
  "kernelspec": {
   "display_name": "Python 3",
   "language": "python",
   "name": "python3"
  },
  "language_info": {
   "codemirror_mode": {
    "name": "ipython",
    "version": 3
   },
   "file_extension": ".py",
   "mimetype": "text/x-python",
   "name": "python",
   "nbconvert_exporter": "python",
   "pygments_lexer": "ipython3",
   "version": "3.8.5"
  }
 },
 "nbformat": 4,
 "nbformat_minor": 4
}
